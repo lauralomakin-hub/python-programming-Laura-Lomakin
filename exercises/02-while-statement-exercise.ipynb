{
 "cells": [
  {
   "cell_type": "markdown",
   "metadata": {},
   "source": [
    "<a href=\"https://colab.research.google.com/github/pr0fez/AI24-Programmering/blob/master/Exercises/02-while-statement-exercise.ipynb\" target=\"_parent\"><img align=\"left\" src=\"https://colab.research.google.com/assets/colab-badge.svg\" alt=\"Open In Colab\"/></a> &nbsp; to see hints and answers."
   ]
  },
  {
   "cell_type": "markdown",
   "metadata": {},
   "source": [
    "# while statement exercises\n",
    "\n",
    "---\n",
    "These are introductory exercises in Python with focus in **while** statement.\n",
    "\n",
    "<p class = \"alert alert-info\" role=\"alert\"><b>Remember</b> to use <b>descriptive variable names</b> in order to get readable code </p>\n",
    "\n",
    "<p class = \"alert alert-info\" role=\"alert\"><b>Remember</b> to format your answers in a neat way using <b>f-strings</b>\n",
    "\n",
    "<p class = \"alert alert-info\" role=\"alert\"><b>Remember</b> to format your input questions in a pedagogical way to guide the user\n",
    "\n",
    "The number of stars (\\*), (\\*\\*), (\\*\\*\\*) denotes the difficulty level of the task\n",
    "\n",
    "---"
   ]
  },
  {
   "cell_type": "markdown",
   "metadata": {},
   "source": [
    "## 1. Count numbers (*)\n",
    "\n",
    "Use a **while** statement to count from -10 to 10 with one increment. \n",
    "\n",
    "<details>\n",
    "\n",
    "<summary>Hint </summary>\n",
    "\n",
    "```python\n",
    "\n",
    "i += 1 # adds one and assigns it to i, equivalent to i = i + 1\n",
    "```\n",
    "\n",
    "</details>\n",
    "<br>\n",
    "<details>\n",
    "\n",
    "<summary>Answer </summary>\n",
    "\n",
    "```\n",
    "\n",
    "-10 -9 -8 -7 -6 -5 -4 -3 -2 -1 0 1 2 3 4 5 6 7 8 9 10\n",
    "```\n",
    "\n",
    "</details>\n"
   ]
  },
  {
   "cell_type": "code",
   "execution_count": 5,
   "metadata": {},
   "outputs": [
    {
     "name": "stdout",
     "output_type": "stream",
     "text": [
      "-10\n",
      "-9\n",
      "-8\n",
      "-7\n",
      "-6\n",
      "-5\n",
      "-4\n",
      "-3\n",
      "-2\n",
      "-1\n",
      "0\n",
      "1\n",
      "2\n",
      "3\n",
      "4\n",
      "5\n",
      "6\n",
      "7\n",
      "8\n",
      "9\n",
      "10\n"
     ]
    }
   ],
   "source": [
    "i = -10         #startvärde\n",
    "while i<=10:    #medan värdet är mindre eller = 10. Stoppar efter 10.\n",
    "    print(i)    #skriv värdet.\n",
    "    i +=1       #öka med 1. loopa tillbaka. slutar vid 10.\n",
    "    "
   ]
  },
  {
   "cell_type": "markdown",
   "metadata": {},
   "source": [
    "--- \n",
    "## 2. Arithmetic sum (*)\n",
    "Use a **while** statement to compute the following sums: \n",
    "\n",
    "&nbsp; a) &nbsp; $\\text{sum} = 1 + 2 + \\ldots + 99+ 100$\n",
    "\n",
    "&nbsp; b) &nbsp; $\\text{sum} = 1 + 3 + 5 + \\ldots + 97 + 99$\n",
    "\n",
    "<details>\n",
    "\n",
    "<summary>Answer </summary>\n",
    "\n",
    "```\n",
    "a) 1 + 2 + ... + 99 + 100 = 5050 \n",
    "\n",
    "b) 1 + 3 + 5 +...+ 97 + 99 = 2500\n",
    "```\n",
    "\n",
    "</details>"
   ]
  },
  {
   "cell_type": "code",
   "execution_count": 6,
   "metadata": {},
   "outputs": [
    {
     "name": "stdout",
     "output_type": "stream",
     "text": [
      "5050\n"
     ]
    }
   ],
   "source": [
    "#a)\n",
    "i = 1   #startvärde - räknare börjar +1\n",
    "total=0   #börjar med  0 och samlar ihop talen (sum)\n",
    "\n",
    "while i <=100:   #fortsätt så länge talet jag räknar är mindre eller =100.\n",
    "    total += i   #öka summan med räknarens värde\n",
    "    i += 1       # öka räknaren med +1\n",
    "print(total)     #när while nått 100 print summan.\n"
   ]
  },
  {
   "cell_type": "code",
   "execution_count": 7,
   "metadata": {},
   "outputs": [
    {
     "name": "stdout",
     "output_type": "stream",
     "text": [
      "2500\n"
     ]
    }
   ],
   "source": [
    "#b)\n",
    "i = 1       #startvärde räknaren. i styr startvärde.\n",
    "total = 0   #summan. startar på 0. \n",
    "\n",
    "while i <= 99:     #fortsätt räknaren så länge räknaren är mindre = 99\n",
    "    total += i     # öka summan med räknarens värde.\n",
    "    i += 2         #öka räknaren med 2\n",
    "print(total)\n",
    "\n"
   ]
  },
  {
   "cell_type": "markdown",
   "metadata": {},
   "source": [
    "--- \n",
    "## 3. Guess number game (*)\n",
    "&nbsp; a) &nbsp; Create a guessing number game following this flow chart: \n",
    "\n",
    "<img align=\"left\" src=\"../assets/guessing_game.png\" width=\"300\"/>"
   ]
  },
  {
   "cell_type": "markdown",
   "metadata": {},
   "source": [
    "&nbsp; b) &nbsp; Make an algorithm to automatically guess the correct number. Can you optimize to get as few guesses as possible? (**)\n",
    "\n",
    "<details>\n",
    "\n",
    "<summary>Hint </summary>\n",
    "\n",
    "&nbsp; b) &nbsp; Half your testing number each time \n",
    "\n",
    "</details>"
   ]
  },
  {
   "cell_type": "code",
   "execution_count": 1,
   "metadata": {},
   "outputs": [
    {
     "name": "stdout",
     "output_type": "stream",
     "text": [
      "You guessed 15. It is too high.\n",
      "You guessed 12.It is too too low.\n",
      "You guessed 12.It is too too low.\n",
      "You guessed 13.It is too too low.\n",
      "Congrats! You guessed right! You solved the game in 5 attempt(s)\n"
     ]
    }
   ],
   "source": [
    "#a) \n",
    "import numpy as np\n",
    "secret_number = np.random.randint(1, 101)    #numpy lägsta talet inkl. högsta talet exkl.\n",
    "attempts = 0\n",
    "\n",
    "while True:                                                             #kör denna loop alltid (tills break).\n",
    "    guessed_number = int(input(\"Choose a number between 1 and 100: \"))\n",
    "    attempts += 1                                                       # attempts = attempts + 1\n",
    "    if secret_number == guessed_number:\n",
    "        print(f\"Congrats! You guessed right! You solved the game in {attempts} attempt(s)\")\n",
    "        break\n",
    "    else:\n",
    "        if guessed_number < secret_number:\n",
    "            print(f\"You guessed {guessed_number}.It is too too low.\")\n",
    "        else:\n",
    "            print(f\"You guessed {guessed_number}. It is too high.\")\n"
   ]
  },
  {
   "cell_type": "code",
   "execution_count": null,
   "metadata": {},
   "outputs": [
    {
     "name": "stdout",
     "output_type": "stream",
     "text": [
      "Chosen number equals 50\n",
      "You guessed 50. It is too high.\n",
      "Chosen number equals 25\n",
      "You guessed 25.It is too too low.\n",
      "Chosen number equals 38.0\n",
      "You guessed 38.0.It is too too low.\n",
      "Chosen number equals 45.0\n",
      "You guessed 45.0.It is too too low.\n",
      "Chosen number equals 49.0\n",
      "You guessed 49.0. It is too high.\n",
      "Chosen number equals 47.0\n",
      "You guessed 47.0.It is too too low.\n",
      "Chosen number equals 48.0\n",
      "Congrats! You guessed right! You solved the game in 7 attempt(s)\n"
     ]
    }
   ],
   "source": [
    "#b) \n",
    "import numpy as np\n",
    "secret_number = np.random.randint(1, 101)    #numpy lägsta talet inkl. högsta talet exkl.\n",
    "attempts = 0\n",
    "guessed_number = 50\n",
    "new_guess = guessed_number // 2\n",
    "while True:                                                             #kör denna loop alltid (tills break).\n",
    "    print(f\"Chosen number equals {guessed_number}\")\n",
    "    attempts += 1                                                       # attempts = attempts + 1\n",
    "    if secret_number == guessed_number:\n",
    "        print(f\"Congrats! You guessed right! You solved the game in {attempts} attempt(s)\")\n",
    "        break\n",
    "    else:\n",
    "        if guessed_number < secret_number:\n",
    "            print(f\"You guessed {guessed_number}.It is too too low.\")\n",
    "            guessed_number += new_guess            #guessed_number = guessed_number + new_guess\n",
    "            new_guess = np.ceil(new_guess / 2)\n",
    "\n",
    "        else:\n",
    "            print(f\"You guessed {guessed_number}. It is too high.\")\n",
    "            guessed_number -= new_guess            #guessed_number = guessed_number - new_guess\n",
    "            new_guess = np.ceil(new_guess / 2)    \n",
    "            "
   ]
  },
  {
   "cell_type": "markdown",
   "metadata": {},
   "source": [
    "--- \n",
    "## 4. Multiplication game (*)\n",
    "&nbsp; a) &nbsp; Create a multiplication game following this flow chart: \n",
    "\n",
    "<img align=\"left\" src=\"../assets/Multiplication_game.png\" width=\"300\"/>"
   ]
  },
  {
   "cell_type": "code",
   "execution_count": null,
   "metadata": {},
   "outputs": [
    {
     "name": "stdout",
     "output_type": "stream",
     "text": [
      "I am sorry, 2 * 5 is not 15. The right answer is 10\n"
     ]
    }
   ],
   "source": [
    "#a)\n",
    "import numpy as np\n",
    "\n",
    "\n",
    "score = 0\n",
    "\n",
    "\n",
    "while True:\n",
    "    X = int(np.random.randint(1, 11))\n",
    "    Y = int(np.random.randint(1, 11))\n",
    "    answer = int(input(f\"{X} * {Y} =   \"))\n",
    "    if answer == X * Y:\n",
    "        print(f\"{X} * {Y} = {X * Y} . You are Right!\")\n",
    "        score += 1\n",
    "    else:\n",
    "        print(f\"I am sorry, {X} * {Y} is not {answer}. The right answer is {X * Y}\")\n",
    "\n",
    "    choice = input(f\"Do you want to try again? yes/no \").strip().lower()\n",
    "    if choice == \"no\":\n",
    "        print(\"Thank you!\")\n",
    "        break\n",
    "    elif choice == \"yes\":\n",
    "        continue\n",
    "    else:\n",
    "        print(\"I am sorry, I did not understand. Quitting game\")\n",
    "        break\n",
    "        \n",
    "    \n"
   ]
  },
  {
   "cell_type": "code",
   "execution_count": null,
   "metadata": {},
   "outputs": [],
   "source": [
    "#b)\n",
    "import numpy as np\n",
    "\n",
    "\n",
    "score = 0\n",
    "difficulty = input(\"Choose your level (easy / medium or hard)\": ).strip().lower()  #input är som en nyckel till en låda\n",
    "difficulties = {                                 #dictionary ->skåp med låsta namnmärkta lådor. input är nyckeln som passar.\n",
    "    \"easy\" : [0, 1, 2, 5, 10]\n",
    "    \"medium\" : [3, 4, 6]\n",
    "    \"hard\" =: [7, 8, 9]\n",
    "}\n",
    "\n",
    "tables = difficulties[difficulty]         #innehållet i lådan när nyckeln har öppnat den.\n",
    "\n",
    "while True:\n",
    "    X = (np.random.choice(tables))\n",
    "    Y = (np.random.randint(1, 11))\n",
    "    answer = int(input(f\"{X} * {Y} =   \"))\n",
    "    if answer == X * Y:\n",
    "        print(f\"{X} * {Y} = {X * Y} . You are Right!\")\n",
    "        score += 1\n",
    "    else:\n",
    "        print(f\"I am sorry, {X} * {Y} is not {answer}. The right answer is {X * Y}\")\n",
    "\n",
    "    choice = input(f\"Do you want to try again? yes/no \").strip().lower()\n",
    "    if choice == \"no\":\n",
    "        print(\"Thank you!\")\n",
    "        break\n",
    "    elif choice == \"yes\":\n",
    "        continue\n",
    "    else:\n",
    "        print(\"I am sorry, I did not understand. Quitting game\")\n",
    "        break"
   ]
  },
  {
   "cell_type": "code",
   "execution_count": null,
   "metadata": {},
   "outputs": [],
   "source": [
    "#b)"
   ]
  },
  {
   "cell_type": "markdown",
   "metadata": {},
   "source": [
    "&nbsp; b) &nbsp; Add a menu for choosing difficulty level of the game\n",
    "\n",
    "&nbsp; c) &nbsp; Feel free to extend this program with features of your choice."
   ]
  },
  {
   "cell_type": "markdown",
   "metadata": {},
   "source": [
    "--- \n",
    "## 5. Check convergence (**)\n",
    "Use a while statement to compute the following sums: \n",
    "\n",
    "&nbsp; a) &nbsp; $\\text{sum} = 1 + \\frac{1}{2} + \\frac{1}{4} + \\frac{1}{8} + \\dots + \\frac{1}{2^n}$\n",
    "\n",
    "&nbsp; b) &nbsp; $\\text{sum} = 1 - \\frac{1}{3} + \\frac{1}{5} - \\frac{1}{7} + \\dots + \\frac{(-1)^n}{2n+1}$\n",
    "\n",
    "Try different values on $n$ to see which value it converges to.\n",
    "\n",
    "<details>\n",
    "\n",
    "<summary>Answer </summary>\n",
    "\n",
    "&nbsp; a) &nbsp; $1 + \\frac{1}{2} + \\frac{1}{4} + \\frac{1}{8} + \\dots + \\frac{1}{2^n} \\xrightarrow[n\\rightarrow \\infty]{} 2$ \n",
    "\n",
    "&nbsp; b) &nbsp; $ 1 - \\frac{1}{3} + \\frac{1}{5} - \\frac{1}{7} + \\dots + \\frac{(-1)^n}{2n+1} \\xrightarrow[n\\rightarrow \\infty]{} \\frac{\\pi}{4}$\n",
    "\n",
    "</details>"
   ]
  },
  {
   "cell_type": "markdown",
   "metadata": {},
   "source": [
    "---\n",
    "\n",
    "pr0fez Giang\n",
    "\n",
    "[LinkedIn][linkedIn_pr0fez]\n",
    "\n",
    "[GitHub portfolio][github_portfolio]\n",
    "\n",
    "[linkedIn_pr0fez]: https://www.linkedin.com/in/pr0fezgiang/\n",
    "[github_portfolio]: https://github.com/pr0fez/Portfolio-pr0fez-Giang\n",
    "\n",
    "---"
   ]
  }
 ],
 "metadata": {
  "kernelspec": {
   "display_name": "venv",
   "language": "python",
   "name": "python3"
  },
  "language_info": {
   "codemirror_mode": {
    "name": "ipython",
    "version": 3
   },
   "file_extension": ".py",
   "mimetype": "text/x-python",
   "name": "python",
   "nbconvert_exporter": "python",
   "pygments_lexer": "ipython3",
   "version": "3.13.5"
  },
  "orig_nbformat": 4
 },
 "nbformat": 4,
 "nbformat_minor": 2
}
