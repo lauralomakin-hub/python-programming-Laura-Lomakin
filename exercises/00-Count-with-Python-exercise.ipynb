{
 "cells": [
  {
   "cell_type": "markdown",
   "metadata": {},
   "source": [
    "\n",
    "<a href=\"https://colab.research.google.com/github/pr0fez/AI24-Programmering/blob/master/Exercises/00-Count-with-Python-exercise.ipynb\" target=\"_parent\"><img align=\"left\" src=\"https://colab.research.google.com/assets/colab-badge.svg\" alt=\"Open In Colab\"/></a> &nbsp; to see hints and answers."
   ]
  },
  {
   "cell_type": "markdown",
   "metadata": {},
   "source": [
    "# Count with Python\n",
    "\n",
    "---\n",
    "These are introductory exercises in Python for fundamental mathematics. It is important to both know mathematics as well as Python in order to understand machine learning concepts. Also a focus here is to use Python as a tool for solving mathematical problems.\n",
    "\n",
    "<p class = \"alert alert-info\" role=\"alert\"><b>Remember</b> to use <b>variables</b> in your computations </p>\n",
    "\n",
    "<p class = \"alert alert-info\" role=\"alert\"><b>Remember</b> to format your answers in a neat way using <b>f-strings</b>\n",
    "\n",
    "The number of stars (\\*), (\\*\\*), (\\*\\*\\*) denotes the difficulty level of the task\n",
    "\n",
    "---"
   ]
  },
  {
   "cell_type": "markdown",
   "metadata": {},
   "source": [
    "## 1. Pythagorean theorem (*)\n",
    "\n",
    "&nbsp; a) &nbsp;  A right angled triangle has the catheti: a = 3 and b = 4 length units. Compute the <b>hypothenuse</b> of the triangle. (*) \n",
    "  \n",
    "&nbsp; b) &nbsp;  A right angled triangle has hypothenuse c = 7.0 and a cathetus a = 5.0 length units. Compute the other cathetus and round to one decimal. (*)\n",
    "\n",
    "<img align=\"left\" src=\"../assets/right-angle-triangle.png\" width=\"200\"/>"
   ]
  },
  {
   "cell_type": "markdown",
   "metadata": {},
   "source": [
    "\n",
    "<details>\n",
    "\n",
    "<summary>Hint</summary>\n",
    "\n",
    "[Video lecture][pythagoras_video] (swedish)\n",
    "\n",
    "[pythagoras_video]: https://www.youtube.com/watch?v=3iivEnKEJ88\n",
    "\n",
    "To do square root in Python\n",
    "```python \n",
    "import math\n",
    "math.sqrt()\n",
    "```\n",
    "\n",
    "</details>\n",
    "<br>\n",
    "<details>\n",
    "\n",
    "<summary>Answer</summary>\n",
    "a) \n",
    "\n",
    "```\n",
    "The hypothenuse is 5 length units\n",
    "```\n",
    "\n",
    "b)\n",
    "\n",
    "```\n",
    "The other cathetus is 4.9 length units\n",
    "```\n",
    "\n",
    "</details>"
   ]
  },
  {
   "cell_type": "code",
   "execution_count": null,
   "metadata": {},
   "outputs": [
    {
     "name": "stdout",
     "output_type": "stream",
     "text": [
      "the hypotenuse of the triangle = 5.0\n"
     ]
    }
   ],
   "source": [
    "import math\n",
    "# Ex. A) c^2 = a^2 + b^2\n",
    "\n",
    "a = 3\n",
    "b = 4\n",
    "\n",
    "c = math.sqrt((a**2) + (b**2))\n",
    "\n",
    "print(f\"The hypotenuse of the triangle = {c}\")\n"
   ]
  },
  {
   "cell_type": "code",
   "execution_count": 5,
   "metadata": {},
   "outputs": [
    {
     "name": "stdout",
     "output_type": "stream",
     "text": [
      "The cathetus b = 4.9\n"
     ]
    }
   ],
   "source": [
    "\n",
    "#B #c^2 = a^2 + b^2 - beräkna: b^2 = c^2 -a^2 \n",
    "c = 7.0\n",
    "a = 5.0\n",
    "\n",
    "b = math.sqrt(c**2 - a**2)\n",
    "print(f\"The cathetus b = {round(b, 1)}\")\n"
   ]
  },
  {
   "cell_type": "markdown",
   "metadata": {},
   "source": [
    "-----\n",
    "## 2. Classification accuracy (*)\n",
    "\n",
    "A machine learning algorithm has been trained to predict whether or not it would rain the next day. Out of 365 predictions, it got 300 correct, compute the accuracy of this model."
   ]
  },
  {
   "cell_type": "code",
   "execution_count": 6,
   "metadata": {},
   "outputs": [
    {
     "name": "stdout",
     "output_type": "stream",
     "text": [
      "The accuracy is 0.821917808219178\n"
     ]
    }
   ],
   "source": [
    "# accuracy = correct predictions/total number of predictions\n",
    "\n",
    "accuracy = 300/365\n",
    "\n",
    "print(f\"The accuracy is {accuracy}\")\n"
   ]
  },
  {
   "cell_type": "markdown",
   "metadata": {},
   "source": [
    "---\n",
    "## 3. Classification accuracy (*)\n",
    "A machine learning model has been trained to detect fire. Here is the result of its predictions: \n",
    "\n",
    "<table align=\"left\">\n",
    "<tbody>\n",
    "  <tr>\n",
    "    <td>True Positive (TP)\n",
    "      <ul>\n",
    "        <li>Reality: fire</li>\n",
    "        <li>Predicted: fire</li>\n",
    "        <li>Number of TP: 2</li>\n",
    "      </ul>\n",
    "    </td>\n",
    "    <td>False Positive (FP)\n",
    "      <ul>\n",
    "        <li>Reality: no fire</li>\n",
    "        <li>Predicted: fire</li>\n",
    "        <li>Number of FP: 2</li>\n",
    "      </ul>\n",
    "    </td>\n",
    "  </tr>\n",
    "\n",
    "  <tr>\n",
    "    <td>False Negative (FN)\n",
    "      <ul>\n",
    "        <li>Reality: fire</li>\n",
    "        <li>Predicted: no fire</li>\n",
    "        <li>Number of FN: 11</li>\n",
    "      </ul>\n",
    "    </td>\n",
    "    <td>True Negative (TN)\n",
    "      <ul>\n",
    "        <li>Reality: no fire</li>\n",
    "        <li>Predicted: no fire</li>\n",
    "        <li>Number of TN: 985</li>\n",
    "      </ul>\n",
    "    </td>\n",
    "  </tr>\n",
    "</tbody>\n",
    "</table>"
   ]
  },
  {
   "cell_type": "markdown",
   "metadata": {},
   "source": [
    "Calculated the accuracy using the following formula:\n",
    "\n",
    "$\\text{accuracy} = \\frac{TP+TN}{TP+TN+FP+FN}$\n",
    "\n",
    "Is this a good model?\n",
    "\n",
    "<details> \n",
    "\n",
    "<summary>Hint </summary>\n",
    "\n",
    "Try to understand what it means for the actual user with each category\n",
    "\n",
    "</details>\n",
    "<br>\n",
    "<details> \n",
    "\n",
    "<summary>Answer </summary>\n",
    "\n",
    "```\n",
    "The accuracy of this model is 0.987.\n",
    "```\n",
    "\n",
    "</details>"
   ]
  },
  {
   "cell_type": "code",
   "execution_count": null,
   "metadata": {},
   "outputs": [
    {
     "name": "stdout",
     "output_type": "stream",
     "text": [
      "The accuracy of this model is 0.987\n"
     ]
    }
   ],
   "source": [
    "accuracy = (2 + 985) / (2 + 985 + 2+ 11)\n",
    "print(f\"The accuracy of this model is {accuracy}\")\n",
    "\n",
    "#inte för ändamålet lämplig. modellen får inte ha fel falska negativa utslag. Fara för liv.\n"
   ]
  },
  {
   "cell_type": "markdown",
   "metadata": {},
   "source": [
    "--- \n",
    "## 4. Line (*)\n",
    "Compute the slope $k$ and the constant term $m$ of this line using the points $A: (4,4)$ and $B: (0,1)$.  \n",
    "\n",
    "<img align=\"left\" src=\"../assets/line.png\" width=\"200\"/>"
   ]
  },
  {
   "cell_type": "markdown",
   "metadata": {},
   "source": [
    "<details> \n",
    "\n",
    "<summary>Hint </summary>\n",
    "\n",
    "$k = \\frac{\\Delta y}{\\Delta x} = \\frac{y_2 - y_1}{x_2 - x_1}$\n",
    "\n",
    "Either plug in one point into $y = kx + m$ and solve for $m$ or read the intersection with y-axis in the graph.\n",
    "\n",
    "[Video lecture][video_line] (Swedish)\n",
    "\n",
    "[video_line]: https://www.youtube.com/watch?v=9Buuq6rkaJ0\n",
    "\n",
    "</details>\n",
    "<br>\n",
    "<details> \n",
    "\n",
    "<summary>Solution </summary>\n",
    "\n",
    "```\n",
    "k = 0.75, m = 1, so the equation for the slope is y = 0.75x + 1\n",
    "```\n",
    "\n",
    "</details>\n"
   ]
  },
  {
   "cell_type": "code",
   "execution_count": 15,
   "metadata": {},
   "outputs": [
    {
     "name": "stdout",
     "output_type": "stream",
     "text": [
      "k = 0.75\n",
      "m = 1.0\n",
      "y = 0.75x + 1.0\n"
     ]
    }
   ],
   "source": [
    "# k = delta y /delta x\n",
    "#y = kx + m\n",
    "\n",
    "\n",
    "A = (4, 4)  # x1, y1\n",
    "B = (0, 1)   #x2, y2\n",
    "\n",
    "\n",
    "k = (A[1] - B[1]) / (A[0] - B[0])\n",
    "\n",
    "\n",
    "# y= 0,75x + 1\n",
    "\n",
    "\n",
    "# m = y - kx --- lös ut kx \n",
    "# m = A[1] - k*(A[0])\n",
    "\n",
    "m = A[1] - k*A[0]\n",
    "\n",
    "print(f\"k = {k}\\nm = {m}\\ny = {k}x + {m}\")"
   ]
  },
  {
   "cell_type": "markdown",
   "metadata": {},
   "source": [
    "---\n",
    "## 5. Euclidean distance (*)\n",
    "\n",
    "The Euclideam distance between the points $P_1$ and $P_2$ is the length of a line between them. Let $P_1: (3,5)$ and $P_2: (-2,4)$ and compute the distance between them."
   ]
  },
  {
   "cell_type": "markdown",
   "metadata": {},
   "source": [
    "<details> \n",
    "\n",
    "<summary>Hint </summary>\n",
    "The formula is: \n",
    "\n",
    "$\\text{distance} = \\sqrt{(x_2-x_1)^2 +(y_2-y_1)^2}$\n",
    "\n",
    "[Video lecture][video_distance] (Swedish)\n",
    "\n",
    "[video_distance]: https://www.youtube.com/watch?v=DrTsKgHg7ng\n",
    "\n",
    "</details>\n",
    "<br>\n",
    "<details> \n",
    "\n",
    "<summary>Answer </summary>\n",
    "\n",
    "```\n",
    "The distance is around 5.1 length units.\n",
    "```\n",
    "\n",
    "</details>"
   ]
  },
  {
   "cell_type": "code",
   "execution_count": 18,
   "metadata": {},
   "outputs": [
    {
     "name": "stdout",
     "output_type": "stream",
     "text": [
      "5.0990195135927845\n",
      "5.1\n"
     ]
    }
   ],
   "source": [
    "import math\n",
    "# distance = roten ur (x2-x1) + (y2-y1)^2\n",
    "# d = roten ur (P1 - Q1) + (P2 - Q2)\n",
    "\n",
    "##manuell beräkning med explicita variabler (chatGPT)\n",
    "P = (3,5)\n",
    "Q = (-2, 4)\n",
    "\n",
    "p1 = 3\n",
    "p2 = 5\n",
    "q1 =-2\n",
    "q2 = 4\n",
    "\n",
    "d = math.sqrt((p1-q1)**2 + (p2 -q2)**2)\n",
    "print(d)\n",
    "\n",
    "##eller med tuple\n",
    "\n",
    "d = math.sqrt((P[0]-Q[0])**2 + (P[1]-Q[1])**2)\n",
    "print(round(d, 2))\n",
    "\n",
    "\n"
   ]
  },
  {
   "cell_type": "markdown",
   "metadata": {},
   "source": [
    "---\n",
    "## 6. Euclidean distance in 3D (**)\n",
    "\n",
    "Calculate the distance between the points $P_1: (2,1,4)$ and $P_2: (3,1,0)$ \n",
    "\n",
    "<details> \n",
    "\n",
    "<summary>Hint </summary>\n",
    "\n",
    "Let $p =(p_1, p_2, p_3)$ and $q = (q_1, q_2, q_3) \\Rightarrow$   \n",
    "\n",
    "$d(p,q) = \\sqrt{(p_1-q_1)^2 +(p_2-q_2)^2 +(p_3-q_3)^2 }$, where $d(p,q)$ is the Euclidean distance between $p$ and $q$\n",
    "\n",
    "</details>\n",
    "<br>\n",
    "<details> \n",
    "\n",
    "<summary>Answer </summary>\n",
    "\n",
    "```\n",
    "The distance is around 4.12 l.u.\n",
    "```\n",
    "\n",
    "</details>"
   ]
  },
  {
   "cell_type": "code",
   "execution_count": 24,
   "metadata": {},
   "outputs": [
    {
     "name": "stdout",
     "output_type": "stream",
     "text": [
      "The length unit is approximately 4.12\n"
     ]
    }
   ],
   "source": [
    "# calculate distance p1 and p2\n",
    "# d(p,q) = roten ur(p1-q1)**2 + (p2-q2)**2 + (p3 -q3)**2\n",
    "# d=roten ur(p1-q1)**2 + (p2-q2)**2 + (p3 -q3)**2\n",
    "\n",
    "p = (2, 1, 4)\n",
    "q = (3, 1, 0)\n",
    "\n",
    "d = math.sqrt((p[0]-q[0])**2 + (p[1]- q[1])**2 + (p[2]-q[2])**2)\n",
    "\n",
    "print(f\"The length unit is approximately {round(d, 2)}\")"
   ]
  },
  {
   "cell_type": "markdown",
   "metadata": {},
   "source": [
    "---\n",
    "\n",
    "Raphael Korsoski\n",
    "\n",
    "[LinkedIn][linkedIn_pr0fez]\n",
    "\n",
    "[GitHub portfolio][github_portfolio]\n",
    "\n",
    "[linkedIn_pr0fez]: https://www.linkedin.com/in/raphael-korsoski-3924691a/\n",
    "[github]: https://github.com/pr0fez/\n",
    "\n",
    "---"
   ]
  }
 ],
 "metadata": {
  "kernelspec": {
   "display_name": "Python 3",
   "language": "python",
   "name": "python3"
  },
  "language_info": {
   "codemirror_mode": {
    "name": "ipython",
    "version": 3
   },
   "file_extension": ".py",
   "mimetype": "text/x-python",
   "name": "python",
   "nbconvert_exporter": "python",
   "pygments_lexer": "ipython3",
   "version": "3.13.5"
  },
  "orig_nbformat": 4
 },
 "nbformat": 4,
 "nbformat_minor": 2
}
