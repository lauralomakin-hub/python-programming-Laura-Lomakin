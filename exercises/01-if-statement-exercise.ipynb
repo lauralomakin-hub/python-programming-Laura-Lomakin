{
 "cells": [
  {
   "cell_type": "markdown",
   "metadata": {},
   "source": [
    "\n",
    "<a href=\"https://colab.research.google.com/github/pr0fez/AI24-Programmering/blob/master/Exercises/01-if-statement-exercise.ipynb\" target=\"_parent\"><img align=\"left\" src=\"https://colab.research.google.com/assets/colab-badge.svg\" alt=\"Open In Colab\"/></a> &nbsp; to see hints and answers."
   ]
  },
  {
   "cell_type": "markdown",
   "metadata": {},
   "source": [
    "# if statements exercises\n",
    "\n",
    "---\n",
    "These are introductory exercises in Python with focus in **if** statement.\n",
    "\n",
    "<p class = \"alert alert-info\" role=\"alert\"><b>Remember</b> to use <b>descriptive variable names</b> in order to get readable code </p>\n",
    "\n",
    "<p class = \"alert alert-info\" role=\"alert\"><b>Remember</b> to format your answers in a neat way using <b>f-strings</b>\n",
    "\n",
    "<p class = \"alert alert-info\" role=\"alert\"><b>Remember</b> to format your input questions in a pedagogical way to guide the user\n",
    "\n",
    "The number of stars (\\*), (\\*\\*), (\\*\\*\\*) denotes the difficulty level of the task\n",
    "\n",
    "---"
   ]
  },
  {
   "cell_type": "markdown",
   "metadata": {},
   "source": [
    "## 1. Check sign (*) \n",
    "Ask the user to input a number and check if this number is **positive**, **negative** or **zero** and print it."
   ]
  },
  {
   "cell_type": "code",
   "execution_count": 9,
   "metadata": {},
   "outputs": [
    {
     "name": "stdout",
     "output_type": "stream",
     "text": [
      "The number is 0\n",
      "The number is positive\n"
     ]
    }
   ],
   "source": [
    "#sekvensiell prog. \n",
    "number = int(input(\"Please, enter a number: \"))\n",
    "\n",
    "if number == 0:\n",
    "    print(\"The number is 0\")\n",
    "\n",
    "#elif number < 0:\n",
    "    print(\"The number is positive\")\n",
    "\n",
    "else:\n",
    "  print(\"The number is negative\")\n",
    "\n"
   ]
  },
  {
   "cell_type": "code",
   "execution_count": 12,
   "metadata": {},
   "outputs": [
    {
     "name": "stdout",
     "output_type": "stream",
     "text": [
      "The number equals zero\n"
     ]
    }
   ],
   "source": [
    "#Eller:\n",
    "import numpy as np\n",
    "\n",
    "number = int(input(\"Please, enter a random number: \"))\n",
    "sign = np.sign(number) #svar -1, 0 eller 1\n",
    "\n",
    "if sign == -1:\n",
    "    print(\"The number is negative\")\n",
    "elif sign == 0:\n",
    "    print(\"The number equals zero\")\n",
    "else:\n",
    "    print(\"The number is positive\")"
   ]
  },
  {
   "cell_type": "markdown",
   "metadata": {},
   "source": [
    "---\n",
    "## 2. Smallest (*)\n",
    "Ask the user to input two numbers and check which one is the smallest and print it out.   "
   ]
  },
  {
   "cell_type": "code",
   "execution_count": null,
   "metadata": {},
   "outputs": [],
   "source": []
  },
  {
   "cell_type": "code",
   "execution_count": 17,
   "metadata": {},
   "outputs": [
    {
     "name": "stdout",
     "output_type": "stream",
     "text": [
      "You wrote 0 and 0. They are equal\n"
     ]
    }
   ],
   "source": [
    "a = int(input(\"Please, give me a number: \"))\n",
    "b = int(input(\"PLease give a second number: \"))\n",
    "\n",
    "if a > b:\n",
    "    print(f\"You wrote {a} and {b}. {b} is the smallest number.\")\n",
    "elif a < b:\n",
    "    print(f\"You wrote {a} and {b}. {a} is the smallest number.\")\n",
    "else:\n",
    "    print(f\"You wrote {a} and {b}. They are equal\")\n",
    "\n"
   ]
  },
  {
   "cell_type": "markdown",
   "metadata": {},
   "source": []
  },
  {
   "cell_type": "markdown",
   "metadata": {},
   "source": [
    "---\n",
    "## 3. Right angle (*)\n",
    "\n",
    "Ask the user to input three angles and check if the triangle has a right angle. Your code should make sure that all three angles are valid and make up a triangle.\n",
    "\n",
    "<img align=\"left\" src=\"../assets/triangle_angles.png\" width=\"200\"/>"
   ]
  },
  {
   "cell_type": "code",
   "execution_count": 5,
   "metadata": {},
   "outputs": [
    {
     "name": "stdout",
     "output_type": "stream",
     "text": [
      "This is a triangle\n",
      " with a right angle\n"
     ]
    }
   ],
   "source": [
    "a = int(input(\"Please, enter an angle: \"))\n",
    "b = int(input(\"Enter second angle: \"))\n",
    "c = int(input(\"Enter thhird angle: \"))\n",
    "\n",
    "if a + b + c == 180:\n",
    "    print(\"This is a triangle\")\n",
    "    if a == 90 or b == 90 or c == 90:\n",
    "        print(\" with a right angle\")\n",
    "else:\n",
    "    print(\"this is not a triangle\")\n"
   ]
  },
  {
   "cell_type": "code",
   "execution_count": null,
   "metadata": {},
   "outputs": [
    {
     "name": "stdout",
     "output_type": "stream",
     "text": [
      "input three angles\n",
      "this is a triangle\n",
      "And it is right angled\n"
     ]
    }
   ],
   "source": [
    "#version 2\n",
    "print(\"input three angles\")\n",
    "a, b, c = int(input()), int(input()), int(input())\n",
    "\n",
    "if sum([a, b, c]) !=180:\n",
    "    print(\"angles dont form a triangle\")\n",
    "else:\n",
    "    print(\"this is a triangle\")\n",
    "    if a == 90 or b == 90 or c == 90:\n",
    "        print(\"And it is right angled\")\n",
    "\n"
   ]
  },
  {
   "cell_type": "markdown",
   "metadata": {},
   "source": [
    "----\n",
    "## 4. Medicine (*)\n",
    "\n",
    "The information in the following table is stated in a medicine package. Also it is stated that for children weight is more important than age.\n",
    "\n",
    "<table align=\"left\">\n",
    "<thead>\n",
    "    <tr>\n",
    "        <th></th>\n",
    "        <th>Age</th>\n",
    "        <th>Number of pills</th>\n",
    "    </tr>\n",
    "</thead>\n",
    "\n",
    "<tbody>\n",
    "  <tr>\n",
    "    <td>Adults & adolescent <br>over 40 kg</td>\n",
    "    <td>over 12 years</td>\n",
    "    <td>1-2</td>\n",
    "  </tr>\n",
    "\n",
    "  <tr>\n",
    "    <td>Children 26-40 kg</td>\n",
    "    <td>7-12 years</td>\n",
    "    <td>1/2-1</td>\n",
    "  </tr>\n",
    "\n",
    "  <tr>\n",
    "    <td>Children 15-25 kg</td>\n",
    "    <td>3-7 years</td>\n",
    "    <td>1/2</td>\n",
    "  </tr>\n",
    "</tbody>\n",
    "</table>"
   ]
  },
  {
   "cell_type": "markdown",
   "metadata": {},
   "source": [
    "Let the user input an **age** and a **weight**, the program should recommend the number of pills for the user."
   ]
  },
  {
   "cell_type": "code",
   "execution_count": 10,
   "metadata": {},
   "outputs": [
    {
     "name": "stdout",
     "output_type": "stream",
     "text": [
      "You should take 1/2-1 tablet(s)\n"
     ]
    }
   ],
   "source": [
    "age = int(input(\"What is your age? \"))\n",
    "\n",
    "if age > 12:\n",
    "    print(\"you are considered adult or adolescent. You should take 1-2 tablets\")\n",
    "else:\n",
    "    weight = int(input(\"what is your weight? \"))\n",
    "    if weight > 26:\n",
    "        print(\"You should take  1/2 tablet\")\n",
    "    else:\n",
    "        print(\"You should take 1/2-1 tablet(s)\")\n",
    "    "
   ]
  },
  {
   "cell_type": "markdown",
   "metadata": {},
   "source": [
    "---\n",
    "## 5. Divisible (*)\n",
    "Let the user input a number. Check if the number is\n",
    "<ol type=\"a\">\n",
    "  <li>even or odd</li>\n",
    "  <li>is divisible by 5</li>\n",
    "  <li>is divisble by 5 and odd</li>\n",
    "</ol> "
   ]
  },
  {
   "cell_type": "code",
   "execution_count": 16,
   "metadata": {},
   "outputs": [
    {
     "name": "stdout",
     "output_type": "stream",
     "text": [
      "80 is an even number.\n",
      "80 is divisible by 5 and the answeer is an even number\n"
     ]
    }
   ],
   "source": [
    "#a)\n",
    "\n",
    "number = int(input(\"choose a number: \"))\n",
    "\n",
    "if number % 2 == 0:\n",
    "    print(f\"{number} is an even number.\")\n",
    "else:\n",
    "    print(f\"{number} is an odd number.\")\n",
    "if number % 5 == 0:\n",
    "    if number % 2 == 0:\n",
    "        print(f\"{number} is divisible by 5 and the answeer is an even number\")\n",
    "    else:\n",
    "        print(f\"{number} is divisible by 5 and the result is an odd number\")\n",
    "        \n",
    "\n",
    "\n"
   ]
  },
  {
   "cell_type": "code",
   "execution_count": null,
   "metadata": {},
   "outputs": [],
   "source": []
  },
  {
   "cell_type": "markdown",
   "metadata": {},
   "source": [
    "---\n",
    "## 6. Luggage size (*)\n",
    "\n",
    "The maximum allowed luggage size for boarding an airplane is: \n",
    "- weight: 8kg\n",
    "- dimensions: 55x40x23cm (length x width x height) \n",
    "\n",
    "Let the user input weight, length, width and height of the luggage. The program should check if the luggage is allowed or not."
   ]
  },
  {
   "cell_type": "code",
   "execution_count": 26,
   "metadata": {},
   "outputs": [
    {
     "name": "stdout",
     "output_type": "stream",
     "text": [
      "Please, insert luggage information\n",
      "The luggage is unfortunatelly ALLOWED without an extra fee.\n"
     ]
    }
   ],
   "source": [
    "print(\"Please, insert luggage information\")\n",
    "\n",
    "weight = int(input(\"Weight: \"))\n",
    "length = int(input(\"length: \"))\n",
    "width = int(input(\"Width: \"))\n",
    "height = int(input(\"height: \"))\n",
    "\n",
    "if weight <= 8:\n",
    "    if length <= 55 and width <= 40 and height <= 23:\n",
    "        print(\"The luggage is unfortunatelly ALLOWED without an extra fee.\")\n",
    "    else:\n",
    "        print(\"unfortunatelly your luggage is not allowed. Or it COULD BE allowed with a giant extra fee.\")\n"
   ]
  },
  {
   "cell_type": "markdown",
   "metadata": {},
   "source": [
    "---\n",
    "\n",
    "pr0fez Giang\n",
    "\n",
    "[LinkedIn][linkedIn_pr0fez]\n",
    "\n",
    "[GitHub portfolio][github_portfolio]\n",
    "\n",
    "[linkedIn_pr0fez]: https://www.linkedin.com/in/pr0fezgiang/\n",
    "[github_portfolio]: https://github.com/pr0fez/Portfolio-pr0fez-Giang\n",
    "\n",
    "---"
   ]
  }
 ],
 "metadata": {
  "kernelspec": {
   "display_name": "venv",
   "language": "python",
   "name": "python3"
  },
  "language_info": {
   "codemirror_mode": {
    "name": "ipython",
    "version": 3
   },
   "file_extension": ".py",
   "mimetype": "text/x-python",
   "name": "python",
   "nbconvert_exporter": "python",
   "pygments_lexer": "ipython3",
   "version": "3.13.5"
  },
  "orig_nbformat": 4
 },
 "nbformat": 4,
 "nbformat_minor": 2
}
