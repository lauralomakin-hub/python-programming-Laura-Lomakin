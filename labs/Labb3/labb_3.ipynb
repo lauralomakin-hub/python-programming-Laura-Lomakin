{
 "cells": [
  {
   "cell_type": "code",
   "execution_count": null,
   "id": "3cd41035",
   "metadata": {},
   "outputs": [],
   "source": [
    "import pandas as np\n",
    "import matplotlib.pyplot as plt\n",
    "import numpy as np\n",
    "\n",
    "with open(\"labs/Labb3/unlabelled_data.csv\", \"r\") as csv_file:\n",
    "    for line in csv_file:\n",
    "        x,y = line.strip().split(\",\")\n",
    "        x = float(x)\n",
    "        y = float(y)\n",
    "print(x,y)"
   ]
  },
  {
   "cell_type": "markdown",
   "id": "c4ad4372",
   "metadata": {},
   "source": [
    "https://realpython.com/python-with-statement/\n",
    "chatgpt"
   ]
  },
  {
   "cell_type": "markdown",
   "id": "efff199f",
   "metadata": {},
   "source": [
    "map() https://www.w3schools.com/python/ref_func_map.asp"
   ]
  },
  {
   "cell_type": "code",
   "execution_count": null,
   "id": "29ccc87c",
   "metadata": {},
   "outputs": [],
   "source": [
    "import pandas as np\n",
    "import matplotlib.pyplot as plt\n",
    "import numpy as np\n",
    "\n",
    "all_x = []\n",
    "all_y = []\n",
    "\n",
    "with open(\"labs/Labb3/unlabelled_data.csv\", \"r\") as csv_file:\n",
    "    for line in csv_file:\n",
    "\n",
    "        x,y = map(float, line.strip().split(\",\"))\n",
    "\n",
    "        all_x.append(x)\n",
    "        all_y.append(y)  "
   ]
  },
  {
   "cell_type": "code",
   "execution_count": null,
   "id": "a5ade3e4",
   "metadata": {},
   "outputs": [],
   "source": [
    "        all_x.append(x)\n",
    "        all_y.append(y)  \n",
    "\n",
    "#print(all_x)\n",
    "#print(all_y)\n",
    "\n",
    "plt.scatter(all_x, all_y)   #\"co?\"\n",
    "plt.show()"
   ]
  },
  {
   "cell_type": "markdown",
   "id": "ff399a98",
   "metadata": {},
   "source": [
    "använde append för att lägga till värdena för x resp. y  - https://www.youtube.com/watch?v=8QuQwO51hTc\n",
    "Youtubevideon förelog att använda plt.plot men chatgpt föreslog plt.scatter so ger fler alternatuv. jag använde scatter sist och tänker att jag kör samma för att den var anpassningsbar."
   ]
  },
  {
   "cell_type": "markdown",
   "id": "946110f8",
   "metadata": {},
   "source": [
    "skulle jag använy map() ?https://www.w3schools.com/python/ref_func_map.asp  - map() ?"
   ]
  },
  {
   "cell_type": "markdown",
   "id": "930e0833",
   "metadata": {},
   "source": [
    "lite fler plt. för rutnät, större diagram och storlek"
   ]
  },
  {
   "cell_type": "code",
   "execution_count": null,
   "id": "f4d37437",
   "metadata": {},
   "outputs": [],
   "source": [
    "plt.figure(figsize=(8, 6))\n",
    "plt.scatter(all_x, all_y) \n",
    "plt.xlim(-6, 6)\n",
    "plt.ylim(-6, 6)     \n",
    "plt.xlabel(\"x\")\n",
    "plt.ylabel(\"y\")            \n",
    "plt.grid(True)              # chatgot, prompt: \"alltså jag har kasst ögonmått jag skulle behöva linjal på skärmen och jag har touchskärm\"\n",
    "plt.show()\n"
   ]
  },
  {
   "cell_type": "markdown",
   "id": "21c8c1f2",
   "metadata": {},
   "source": [
    "Med ögonmått mätt går linjen genom origo, vilket ger (0,0) en annan punkt på den ögonmåttsmätta linjen går genom (-2,2)\n",
    "Det ger linjensekvation: ##y=-x\n"
   ]
  },
  {
   "cell_type": "markdown",
   "id": "3dafba38",
   "metadata": {},
   "source": [
    "## uppgift: \n",
    "# Klassificering & Filhantering i Python\n",
    "\n",
    "### Klassificering (if-satser och funktioner)\n",
    "- [Python If...Else – W3Schools](https://www.w3schools.com/python/python_conditions.asp)  \n",
    "  Grundläggande om hur man jämför värden i Python (`if`, `elif`, `else`).\n",
    "\n",
    "- [Defining Functions in Python – Real Python](https://realpython.com/defining-your-own-python-function/)  \n",
    "  Hur man skapar egna funktioner, t.ex. `def classify_point(x, y): ...`.\n",
    "\n",
    "### Spara data till CSV / filer\n",
    "- [Python File Write – W3Schools](https://www.w3schools.com/python/python_file_write.asp)  \n",
    "  Hur man öppnar en fil och skriver text/rader till den.\n",
    "\n",
    "- [Python CSV – W3Schools](https://www.w3schools.com/python/python_csv.asp)  \n",
    "  Exempel på hur man läser/skriv CSV med Pythons inbyggda `csv`-modul.\n",
    "\n",
    "### Bonus – Klassificering i maskininlärning\n",
    "- [Classification – scikit-learn docs](https://scikit-learn.org/stable/supervised_learning.html#supervised-learning)  \n",
    "  Mer om hur klassificering används i maskininlärning (för vidare studier).\n"
   ]
  }
 ],
 "metadata": {
  "language_info": {
   "name": "python"
  }
 },
 "nbformat": 4,
 "nbformat_minor": 5
}
