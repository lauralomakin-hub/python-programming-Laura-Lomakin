{
 "cells": [
  {
   "cell_type": "markdown",
   "id": "01bc72de",
   "metadata": {},
   "source": [
    "#Personliga anteckningar"
   ]
  },
  {
   "cell_type": "code",
   "execution_count": null,
   "id": "2aa92222",
   "metadata": {},
   "outputs": [],
   "source": [
    "import matplotlib.pyplot as plt\n",
    "import numpy as np\n",
    "import pandas as pd\n",
    "\n",
    "def load_data(filename):\n",
    "    with open (filename, r) as file:\n",
    "    for line in file:\n",
    "        width, height = map(float(line.strip(),split())\n",
    "\n",
    "points.append((width, height))\n",
    "              \n",
    "return points"
   ]
  },
  {
   "cell_type": "markdown",
   "id": "2ed338a6",
   "metadata": {},
   "source": [
    "imprterat matpolotlip.pyplot - varför pyplot?\n",
    "importerat pandas - varför?\n",
    "funktion som tar in filerna:\n",
    "    with open - wirh stänger filen när innehållet laddats ner\n",
    "r -läser filen\n",
    "as file - döper filen inuti funktionen\n",
    "\n",
    "for line in file - läser varje rad\n",
    "width, height - packar upp i två variabler\n",
    "map(float(line.strip(),split()) - map mall för alla lines i filen. gör till flyttal, line.strip() tar bort\n",
    "    radbrytning, split() delar på talen vid mellanslag.\n",
    "points.appens - varje gång loopen körs läggs två värden in i ponits(tuple). append stackar tuplerna på varamdra i en lista."
   ]
  },
  {
   "cell_type": "code",
   "execution_count": null,
   "id": "e13cf5ff",
   "metadata": {},
   "outputs": [],
   "source": [
    "import matplotlib.pyplot as plt\n",
    "import numpy as np\n",
    "import pandas as pd\n",
    "import re\n",
    "\n",
    "\n",
    "\n",
    "def load_data(filename):\n",
    "    points = []\n",
    "    with open(filename, \"r\") as file:\n",
    "        \n",
    "        for line in file:\n",
    "            width, height = 0 ,0\n",
    "            print(list(line.strip().split())) \n",
    "            points.append((width, height))\n",
    "    return points\n",
    "\n",
    "datapoints = load_data(\"datapoints.txt\")\n",
    "testpoints = load_data(\"testpoints.txt\")"
   ]
  },
  {
   "cell_type": "markdown",
   "id": "15a37929",
   "metadata": {},
   "source": [
    "regex för att rensa data: re.findall()\n",
    "\\(    betyder   första tecknet är en vänster parentes\n",
    "(     betyder   början grupp 1 och 2\n",
    "\\d+   betyder   minst en siffra\n",
    "\\.?   betyder   eventuellt en punkt\n",
    "\\d*   betyder   eventuellt fler siffror efter punkt\n",
    ")     betyder   slutparentes grupp 1 och 2\n",
    ",\\s*  betyder   \\s - whitespace\n",
    "                *ingen eller flera\n",
    "\n",
    "            \n",
    "\n",
    "\n",
    "behöver inte ta bort en massa teceken utan lyfter istället ut värden jag behöver.\n",
    "\n",
    "re.findall returnerar en lista som beöver sparas i något - nums\n",
    "\n",
    "r för att python inte sk atolka det som specialtecken\n"
   ]
  },
  {
   "cell_type": "code",
   "execution_count": null,
   "id": "483034e9",
   "metadata": {},
   "outputs": [],
   "source": [
    "import matplotlib.pyplot as plt\n",
    "import numpy as np\n",
    "import pandas as pd\n",
    "import re\n",
    "\n",
    "\n",
    "\n",
    "def load_data(filename):\n",
    "    points = []\n",
    "    with open(filename, \"r\") as file:\n",
    "        \n",
    "        for line in file:\n",
    "            nums = re.findall(r\"\\((\\d+\\.?\\d*),\\s*(\\d+\\.?\\d*)\\)\", line)\n",
    "            \n",
    "            points.append((width, height))\n",
    "    return points\n",
    "\n",
    "datapoints = load_data(\"datapoints.txt\")\n",
    "testpoints = load_data(\"testpoints.txt\")"
   ]
  },
  {
   "cell_type": "markdown",
   "id": "f3ca9de8",
   "metadata": {},
   "source": [
    "Nedan:\n",
    "debug för att se värdena så jag vet vad som skulle tas bort.\n",
    "Insåg att jag kan använda regex för att göra det smidigare.\n",
    "dela upp testpoints och datapoints i två olika funktioner  (lättare för mig att förstå vad jag gör) testpoints:"
   ]
  },
  {
   "cell_type": "code",
   "execution_count": null,
   "id": "d247bed4",
   "metadata": {},
   "outputs": [],
   "source": [
    "import matplotlib.pyplot as plt\n",
    "import numpy as np\n",
    "import pandas as pd\n",
    "import re\n",
    "\n",
    "\n",
    "\n",
    "def load_testpoints(filename):\n",
    "    points = []\n",
    "    with open(filename, \"r\", encoding=\"utf-8\") as file:\n",
    "        \n",
    "        for line in file:\n",
    "            nums = re.findall(r\"\\((\\d+\\.?\\d*),\\s*(\\d+\\.?\\d*)\\)\", line)\n",
    "            if nums:\n",
    "                w_str, h_str = nums[0]\n",
    "                width, height = float(w_str), float(h_str)\n",
    "                points.append((width, height))\n",
    "    return points\n",
    "testpoints = load_testpoints(\"testpoints.txt\")\n",
    "print(testpoints)"
   ]
  },
  {
   "cell_type": "markdown",
   "id": "c1835fa2",
   "metadata": {},
   "source": [
    "en likadan för datapoints"
   ]
  },
  {
   "cell_type": "code",
   "execution_count": null,
   "id": "fd76f2dc",
   "metadata": {},
   "outputs": [],
   "source": [
    "\n",
    "import matplotlib.pyplot as plt\n",
    "import numpy as np\n",
    "import pandas as pd\n",
    "import re\n",
    "\n",
    "def load_datapoints(filename): \n",
    "    points = []\n",
    "    with open(filename, \"r\", encoding=\"utf-8\") as file:\n",
    "        \n",
    "        for line in file:\n",
    "            nums = re.findall(r\"\\((\\d+\\.?\\d*),\\s*(\\d+\\.?\\d*)\\)\", line)\n",
    "            if nums:\n",
    "                w_str, h_str = nums[0]\n",
    "                width, height = float(w_str), float(h_str)\n",
    "                points.append((width, height))\n",
    "    return points\n",
    "datapoints = load_datapoints(\"datapoints.txt\")\n",
    "print(testpoints)"
   ]
  }
 ],
 "metadata": {
  "language_info": {
   "name": "python"
  }
 },
 "nbformat": 4,
 "nbformat_minor": 5
}
