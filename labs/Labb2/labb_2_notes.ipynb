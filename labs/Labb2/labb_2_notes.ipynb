{
 "cells": [
  {
   "cell_type": "markdown",
   "id": "01bc72de",
   "metadata": {},
   "source": [
    "#Personliga anteckningar"
   ]
  },
  {
   "cell_type": "code",
   "execution_count": null,
   "id": "2aa92222",
   "metadata": {},
   "outputs": [],
   "source": [
    "import matplotlib.pyplot as plt\n",
    "import numpy as np\n",
    "import pandas as pd\n",
    "\n",
    "def load_data(filename):\n",
    "    with open (filename, r) as file:\n",
    "    for line in file:\n",
    "        width, height = map(float(line.strip(),split())\n",
    "\n",
    "points.append((width, height))\n",
    "              \n",
    "return points"
   ]
  },
  {
   "cell_type": "markdown",
   "id": "2ed338a6",
   "metadata": {},
   "source": [
    "imprterat matpolotlip.pyplot - varför pyplot?\n",
    "importerat pandas - varför?\n",
    "funktion som tar in filerna:\n",
    "    with open - wirh stänger filen när innehållet laddats ner\n",
    "r -läser filen\n",
    "as file - döper filen inuti funktionen\n",
    "\n",
    "for line in file - läser varje rad\n",
    "width, height - packar upp i två variabler\n",
    "map(float(line.strip(),split()) - map mall för alla lines i filen. gör till flyttal, line.strip() tar bort\n",
    "    radbrytning, split() delar på talen vid mellanslag.\n",
    "points.appens - varje gång loopen körs läggs två värden in i ponits(tuple). append stackar tuplerna på varamdra i en lista."
   ]
  },
  {
   "cell_type": "code",
   "execution_count": null,
   "id": "e13cf5ff",
   "metadata": {},
   "outputs": [],
   "source": [
    "import matplotlib.pyplot as plt\n",
    "import numpy as np\n",
    "import pandas as pd\n",
    "import re\n",
    "\n",
    "\n",
    "\n",
    "def load_data(filename):\n",
    "    points = []\n",
    "    with open(filename, \"r\") as file:\n",
    "        \n",
    "        for line in file:\n",
    "            width, height = 0 ,0\n",
    "            print(list(line.strip().split())) \n",
    "            points.append((width, height))\n",
    "    return points\n",
    "\n",
    "datapoints = load_data(\"datapoints.txt\")\n",
    "testpoints = load_data(\"testpoints.txt\")"
   ]
  },
  {
   "cell_type": "markdown",
   "id": "15a37929",
   "metadata": {},
   "source": [
    "regex för att rensa data: re.findall()\n",
    "\\(    betyder   första tecknet är en vänster parentes\n",
    "(     betyder   början grupp 1 och 2\n",
    "\\d+   betyder   minst en siffra\n",
    "\\.?   betyder   eventuellt en punkt\n",
    "\\d*   betyder   eventuellt fler siffror efter punkt\n",
    ")     betyder   slutparentes grupp 1 och 2\n",
    ",\\s*  betyder   \\s - whitespace\n",
    "                *ingen eller flera\n",
    "\n",
    "            \n",
    "\n",
    "\n",
    "behöver inte ta bort en massa teceken utan lyfter istället ut värden jag behöver.\n",
    "\n",
    "re.findall returnerar en lista som beöver sparas i något - nums\n",
    "\n",
    "r för att python inte sk atolka det som specialtecken\n"
   ]
  },
  {
   "cell_type": "code",
   "execution_count": null,
   "id": "483034e9",
   "metadata": {},
   "outputs": [],
   "source": [
    "import matplotlib.pyplot as plt\n",
    "import numpy as np\n",
    "import pandas as pd\n",
    "import re\n",
    "\n",
    "\n",
    "\n",
    "def load_data(filename):\n",
    "    points = []\n",
    "    with open(filename, \"r\") as file:\n",
    "        \n",
    "        for line in file:\n",
    "            nums = re.findall(r\"\\((\\d+\\.?\\d*),\\s*(\\d+\\.?\\d*)\\)\", line)\n",
    "            \n",
    "            points.append((width, height))\n",
    "    return points\n",
    "\n",
    "datapoints = load_data(\"datapoints.txt\")\n",
    "testpoints = load_data(\"testpoints.txt\")"
   ]
  },
  {
   "cell_type": "markdown",
   "id": "f3ca9de8",
   "metadata": {},
   "source": [
    "Nedan:\n",
    "debug för att se värdena så jag vet vad som skulle tas bort.\n",
    "Insåg att jag kan använda regex för att göra det smidigare.\n",
    "dela upp testpoints och datapoints i två olika funktioner  (lättare för mig att förstå vad jag gör) testpoints:"
   ]
  },
  {
   "cell_type": "code",
   "execution_count": null,
   "id": "d247bed4",
   "metadata": {},
   "outputs": [],
   "source": [
    "import matplotlib.pyplot as plt\n",
    "import numpy as np\n",
    "import pandas as pd\n",
    "import re\n",
    "\n",
    "\n",
    "\n",
    "def load_testpoints(filename):\n",
    "    points = []\n",
    "    with open(filename, \"r\", encoding=\"utf-8\") as file:\n",
    "        \n",
    "        for line in file:\n",
    "            nums = re.findall(r\"\\((\\d+\\.?\\d*),\\s*(\\d+\\.?\\d*)\\)\", line)\n",
    "            if nums:\n",
    "                w_str, h_str = nums[0]\n",
    "                width, height = float(w_str), float(h_str)\n",
    "                points.append((width, height))\n",
    "    return points\n",
    "testpoints = load_testpoints(\"testpoints.txt\")\n",
    "print(testpoints)"
   ]
  },
  {
   "cell_type": "markdown",
   "id": "c1835fa2",
   "metadata": {},
   "source": [
    "en likadan för datapoints"
   ]
  },
  {
   "cell_type": "code",
   "execution_count": null,
   "id": "fd76f2dc",
   "metadata": {},
   "outputs": [],
   "source": [
    "\n",
    "import matplotlib.pyplot as plt\n",
    "import numpy as np\n",
    "import pandas as pd\n",
    "import re\n",
    "\n",
    "def load_datapoints(filename): \n",
    "    points = []\n",
    "    with open(filename, \"r\", encoding=\"utf-8\") as file:\n",
    "        \n",
    "        for line in file:\n",
    "            nums = re.findall(r\"\\((\\d+\\.?\\d*),\\s*(\\d+\\.?\\d*)\\)\", line)\n",
    "            if nums:\n",
    "                w_str, h_str = nums[0]\n",
    "                width, height = float(w_str), float(h_str)\n",
    "                points.append((width, height))\n",
    "    return points\n",
    "datapoints = load_datapoints(\"datapoints.txt\")\n",
    "print(testpoints)"
   ]
  },
  {
   "cell_type": "markdown",
   "id": "b031acd2",
   "metadata": {},
   "source": [
    "##euclidean distance funktion och test"
   ]
  },
  {
   "cell_type": "code",
   "execution_count": null,
   "id": "509d31ae",
   "metadata": {},
   "outputs": [],
   "source": [
    "import matplotlib.pyplot as plt\n",
    "import numpy as np\n",
    "import pandas as pd\n",
    "import re\n",
    "\n",
    "\n",
    "\n",
    "def load_testpoints(filename):\n",
    "    points = []\n",
    "    with open(filename, \"r\") as file:\n",
    "        \n",
    "        for line in file:\n",
    "            nums = re.findall(r\"\\((\\d+\\.?\\d*),\\s*(\\d+\\.?\\d*)\\)\", line)\n",
    "            if nums:\n",
    "                w_str, h_str = nums[0]\n",
    "                width, height = float(w_str), float(h_str)\n",
    "                points.append((width, height))\n",
    "                \n",
    "    return points\n",
    "testpoints = load_testpoints(\"testpoints.txt\")\n",
    "\n",
    "# test  print(testpoints[:1])\n",
    "\n",
    "# separate function for datapoints\n",
    "\n",
    "\n",
    "\n",
    "def load_datapoints(filename): \n",
    "    points = []\n",
    "    with open(filename, \"r\") as file:\n",
    "        \n",
    "        for line in file:\n",
    "            nums = re.findall(r\"^\\s*(\\d+\\.?\\d*)\\s*,\\s*(\\d+\\.?\\d*)\\s*,\\s*([01])\\s*$\", line)\n",
    "            if nums:\n",
    "                w_str, h_str, l_str = nums[0]\n",
    "                width, height, label = float(w_str), float(h_str), int(l_str)\n",
    "                points.append((width, height, label))\n",
    "               \n",
    "    return points\n",
    "datapoints = load_datapoints(\"datapoints.txt\")\n",
    "# Test remove     print(datapoints[:1])     \n"
   ]
  },
  {
   "cell_type": "markdown",
   "id": "63b9dc7e",
   "metadata": {},
   "source": [
    "##euclidean distance\n",
    "variablerna, tupler som skickas in i funktionen (test_ponit, data_point). \n",
    "funkktionens ska returnera två värdepar - slutrersultatet från funktionen.\n",
    "eukledisk distans räknas med hjälp av formeln: ---- distans=roten ur((delta x)**2 + (delta y)**2) ----\n",
    "resultatet är den euklediska distansen mellan de två punkterna.\n",
    "\n"
   ]
  },
  {
   "cell_type": "code",
   "execution_count": null,
   "id": "2c5a0a88",
   "metadata": {},
   "outputs": [],
   "source": [
    "\n",
    "import math\n",
    "def euclidean_distance (testpoint_coords, datapoint_coords):\n",
    "    return math.sqrt(\n",
    "        ((testpoint_coords[0]-datapoint_coords[0])**2)+((testpoint_coords[1] - datapoint_coords[1])**2)\n",
    "        )\n"
   ]
  },
  {
   "cell_type": "markdown",
   "id": "32fc2617",
   "metadata": {},
   "source": [
    "test av koden för funktionen euclidean distance\n"
   ]
  },
  {
   "cell_type": "code",
   "execution_count": null,
   "id": "609c8e92",
   "metadata": {},
   "outputs": [],
   "source": [
    "\n",
    "#test\n",
    "\n",
    "if testpoints and datapoints:\n",
    "    tp = testpoints[0]\n",
    "    dp = datapoints[0]\n",
    "\n",
    "    dp_coords = dp[:2]\n",
    "    dp_label = dp[2]\n",
    "\n",
    "    euclidean_distance(tp, dp_coords)\n",
    "\n",
    "\n",
    "    distance = euclidean_distance (tp, dp_coords)\n",
    "    print (f\"[TEST] tp={tp} dp={dp_coords} avstånd={distance:.3f} label={dp_label}\")"
   ]
  },
  {
   "cell_type": "markdown",
   "id": "a97c5d5c",
   "metadata": {},
   "source": [
    "### Förklaring av testkoden\n",
    "\n",
    "Denna kod testar att funktionen `euclidean_distance` fungerar korrekt.\n",
    "\n",
    "```python\n",
    "if testpoints and datapoints:\n",
    "    tp = testpoints[0]      # hämtar första testpunkten (width, height)\n",
    "    dp = datapoints[0]      # hämtar första datapunkten (width, height, label)\n",
    "\n",
    "    dp_coords = dp[:2]      # tar bara koordinaterna (width, height)\n",
    "    dp_label = dp[2]        # sparar labeln separat (0=Pichu, 1=Pikachu)\n",
    "\n",
    "    distance = euclidean_distance(tp, dp_coords)  # beräknar avståndet\n",
    "\n",
    "    print(f\"[TEST] tp={tp} dp={dp_coords} avstånd={distance:.3f} label={dp_label}\")\n",
    "\n",
    "\n",
    "\n",
    "    (Källa: chatGPT. prompt: \"ge mig en förklaring av denna kod som jag kan lägga som markdown i min notebook: (kodsträng)\")\n"
   ]
  },
  {
   "cell_type": "markdown",
   "id": "bd791d5c",
   "metadata": {},
   "source": [
    "Del upp i två klasser. List comprehension (kompakt loop + villkor) - (Förklarat av Adam Hedlund)\n",
    "(vad du behöver) ->  det du går igenom                      -> (varifrån)           -> (om detta villkor gäller)\n",
    "[(width, height) ->  for (width, height, label)             ->  in datapoints       ->   if label == 0]"
   ]
  },
  {
   "cell_type": "code",
   "execution_count": 1,
   "id": "6bb0b1a1",
   "metadata": {},
   "outputs": [
    {
     "ename": "NameError",
     "evalue": "name 'datapoints' is not defined",
     "output_type": "error",
     "traceback": [
      "\u001b[31m---------------------------------------------------------------------------\u001b[39m",
      "\u001b[31mNameError\u001b[39m                                 Traceback (most recent call last)",
      "\u001b[36mCell\u001b[39m\u001b[36m \u001b[39m\u001b[32mIn[1]\u001b[39m\u001b[32m, line 1\u001b[39m\n\u001b[32m----> \u001b[39m\u001b[32m1\u001b[39m pichu_coords = [(width, height) \u001b[38;5;28;01mfor\u001b[39;00m (width, height, label) \u001b[38;5;129;01min\u001b[39;00m \u001b[43mdatapoints\u001b[49m \u001b[38;5;28;01mif\u001b[39;00m label == \u001b[32m0\u001b[39m]\n\u001b[32m      2\u001b[39m pikachu_coords = [(width, height) \u001b[38;5;28;01mfor\u001b[39;00m (width, height, label) \u001b[38;5;129;01min\u001b[39;00m datapoints \u001b[38;5;28;01mif\u001b[39;00m label == \u001b[32m1\u001b[39m]\n",
      "\u001b[31mNameError\u001b[39m: name 'datapoints' is not defined"
     ]
    }
   ],
   "source": [
    "pichu_coords = [(width, height) for (width, height, label) in datapoints if label == 0]\n",
    "pikachu_coords = [(width, height) for (width, height, label) in datapoints if label == 1]"
   ]
  },
  {
   "cell_type": "markdown",
   "id": "7cc9c784",
   "metadata": {},
   "source": [
    "testa med len() att det totala antalet pichu + pikachu motsvarar totala antalet datapoints"
   ]
  },
  {
   "cell_type": "code",
   "execution_count": null,
   "id": "94f92141",
   "metadata": {},
   "outputs": [],
   "source": [
    "print(f\"Pichu {len(pichu_coords)} + {len(pikachu_coords)} = {len(datapoints)}\")"
   ]
  },
  {
   "cell_type": "markdown",
   "id": "147a3427",
   "metadata": {},
   "source": [
    "plotta ut pikachu pichu\n",
    "dubbelkolla matplotlib as plt\n",
    "plotta ut punkterna olika färg på pikachu pichu\n",
    "läsa in testpunkterna\n",
    "\n",
    "läsa in testponits- kontroller amot trainingdata\n",
    " --- spara variabel i någonstans. spara i array!!!\n",
    "räkna avstånd textpunkt och träningspunkt - bara 4 punkter . MÅSTE loopa 4 punkter mot 150 punkter! tills gått igenom alla 150\n",
    "\n",
    "testa!\n",
    "\n",
    "2 input för x och y\n",
    "jmf värden amot klasserna se nearest neighbour.\n",
    "felhantering!!! inga try except value error.\n",
    "\n",
    "blir punkt på plot - k-nn -  utökar cirkeln!!!  (Adam Hedlund) (Patrik Hellgren)\n",
    "\n",
    "\n"
   ]
  },
  {
   "cell_type": "markdown",
   "id": "dd0af647",
   "metadata": {},
   "source": [
    "scatterplot med matplotlib.pyplot. \n",
    "list comprehension med värdena för från datapoints sorterade o=pichu, 1 = pikachu.\n",
    "list comprehension plt.scatter - för att sortera upp weight och height separat, samt label och färg.\n",
    "plt.xlabel/ylabel är texten för x och y -led\n",
    "plt,legend ritar upp namn och färg förklaring\n",
    "\n"
   ]
  },
  {
   "cell_type": "code",
   "execution_count": null,
   "id": "f7b3c280",
   "metadata": {},
   "outputs": [],
   "source": [
    "pichu_coords = [(width, height) for (width, height, label) in datapoints if label == 0]\n",
    "pikachu_coords = [(width, height) for (width, height, label) in datapoints if label == 1]\n",
    "\n",
    "#test att att alla datapoints är med:\n",
    "print(f\"Pichu {len(pichu_coords)} + {len(pikachu_coords)} = {len(datapoints)}\")  \n",
    "\n",
    "\n",
    "plt.scatter(\n",
    "    [w for (w, h) in pichu_coords],\n",
    "    [h for (w, h) in pichu_coords],\n",
    "    color = \"blue\",\n",
    "    label =\"Pichu\"\n",
    ")\n",
    "\n",
    "plt.scatter(\n",
    "    [w for(w, h) in pikachu_coords],\n",
    "    [h for (w, h) in pikachu_coords],\n",
    "    color =\"yellow\",\n",
    "    label =\"Pikachu\"\n",
    ")\n",
    "\n",
    "plt.xlabel = (\"Width\")\n",
    "plt.ylabel = (\"Height\")\n",
    "plt.legend()\n",
    "plt.title(\"Pichu or Pikachu?\")\n",
    "plt.show()"
   ]
  }
 ],
 "metadata": {
  "kernelspec": {
   "display_name": "venv",
   "language": "python",
   "name": "python3"
  },
  "language_info": {
   "codemirror_mode": {
    "name": "ipython",
    "version": 3
   },
   "file_extension": ".py",
   "mimetype": "text/x-python",
   "name": "python",
   "nbconvert_exporter": "python",
   "pygments_lexer": "ipython3",
   "version": "3.13.5"
  }
 },
 "nbformat": 4,
 "nbformat_minor": 5
}
